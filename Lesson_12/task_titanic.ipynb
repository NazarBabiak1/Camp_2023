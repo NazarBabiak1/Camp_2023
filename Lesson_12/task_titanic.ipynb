{
 "cells": [
  {
   "cell_type": "code",
   "execution_count": 9,
   "metadata": {
    "id": "x4nOza2vTAa3"
   },
   "outputs": [],
   "source": [
    "import pandas as pd\n",
    "from sklearn.model_selection import RandomizedSearchCV\n",
    "from sklearn.tree import DecisionTreeClassifier\n",
    "\n",
    "def encode_categorical(df_train, df_test):\n",
    "    \n",
    "    test_start_ind = df_train.index[-1] \n",
    "    \n",
    "    concated_df = pd.concat([df_train, df_test], sort=False) \n",
    "        \n",
    "    encoded_df = pd.get_dummies(concated_df, drop_first=True)\n",
    "    \n",
    "    \n",
    "    df_train_encoded, df_test_encoded = encoded_df.iloc[:test_start_ind, :], encoded_df.iloc[test_start_ind:, :] \n",
    "    \n",
    "    return df_train_encoded, df_test_encoded\n",
    "\n",
    "\n",
    "def create_a_file(prediction, test_data, name):\n",
    "    \n",
    "    result = pd.DataFrame({'PassengerId': test_data.reset_index()['PassengerId'], \"Survived\": prediction})  \n",
    "    result.to_csv(name, index=False)\n",
    "\n",
    "    \n",
    "path_train = 'C:/Data/train.csv'\n",
    "path_test = 'C:/Data/test.csv'\n",
    "\n",
    "train = pd.read_csv(path_train, index_col='PassengerId') \n",
    "test = pd.read_csv(path_test, index_col='PassengerId') \n",
    "\n",
    "y_train = train['Survived']\n",
    "train_sep = train.drop(columns=['Survived'])\n",
    "\n",
    "X_train, X_test = encode_categorical(train_sep, test)\n",
    "\n",
    "clf = DecisionTreeClassifier()\n",
    "\n",
    "parameters = {\n",
    "              'criterion': ['entropy', 'gini'],\n",
    "              'max_depth': range(1, 10),\n",
    "              'min_samples_split': range(2, 10),\n",
    "              'min_samples_leaf': range(1, 10)\n",
    "             }\n",
    "\n",
    "rand_grid_cv = RandomizedSearchCV(clf, parameters, cv=5)\n",
    "\n",
    "rand_grid_cv.fit(X_train, y_train);\n",
    "model = rand_grid_cv.best_estimator_\n",
    "\n",
    "rand_grid_pred = model.predict(X_test)\n",
    "\n",
    "\n",
    "\n",
    "create_a_file(rand_grid_pred, test, 'titanic_dt_gridcv_1.csv')"
   ]
  },
  {
   "cell_type": "code",
   "execution_count": null,
   "metadata": {},
   "outputs": [],
   "source": []
  }
 ],
 "metadata": {
  "colab": {
   "name": "ML Meetups 1 Titanic - Machine Learning from Disaster, part 2.ipynb",
   "provenance": []
  },
  "kernelspec": {
   "display_name": "Python 3 (ipykernel)",
   "language": "python",
   "name": "python3"
  },
  "language_info": {
   "codemirror_mode": {
    "name": "ipython",
    "version": 3
   },
   "file_extension": ".py",
   "mimetype": "text/x-python",
   "name": "python",
   "nbconvert_exporter": "python",
   "pygments_lexer": "ipython3",
   "version": "3.11.5"
  }
 },
 "nbformat": 4,
 "nbformat_minor": 1
}
